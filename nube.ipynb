{
  "nbformat": 4,
  "nbformat_minor": 0,
  "metadata": {
    "colab": {
      "name": "nube.ipynb",
      "provenance": [],
      "collapsed_sections": [],
      "include_colab_link": true
    },
    "kernelspec": {
      "display_name": "Python 3",
      "name": "python3"
    }
  },
  "cells": [
    {
      "cell_type": "markdown",
      "metadata": {
        "id": "view-in-github",
        "colab_type": "text"
      },
      "source": [
        "<a href=\"https://colab.research.google.com/github/Henry7001/Proyecto-PSW-P1/blob/main/nube.ipynb\" target=\"_parent\"><img src=\"https://colab.research.google.com/assets/colab-badge.svg\" alt=\"Open In Colab\"/></a>"
      ]
    },
    {
      "cell_type": "code",
      "metadata": {
        "id": "dQ34RjasQeBR",
        "colab": {
          "base_uri": "https://localhost:8080/"
        },
        "outputId": "7a3f1ba2-802b-4a9d-8a97-8983214b9e67"
      },
      "source": [
        "%pip install Colorama\n",
        "%pip install pygdrive3\n",
        "%pip install BeautifulSoup4\n",
        "%pip install requests\n",
        "%pip install pandas\n",
        "%pip install WordCloud\n"
      ],
      "execution_count": 1,
      "outputs": [
        {
          "output_type": "stream",
          "text": [
            "Collecting Colorama\n",
            "  Downloading https://files.pythonhosted.org/packages/44/98/5b86278fbbf250d239ae0ecb724f8572af1c91f4a11edf4d36a206189440/colorama-0.4.4-py2.py3-none-any.whl\n",
            "Installing collected packages: Colorama\n",
            "Successfully installed Colorama-0.4.4\n",
            "Collecting pygdrive3\n",
            "  Downloading https://files.pythonhosted.org/packages/26/14/5329b65d275b9662e510f042d0ddb04b5379afdf62d6ea5cb41a54e01ebf/pygdrive3-0.7.0-py3-none-any.whl\n",
            "Installing collected packages: pygdrive3\n",
            "Successfully installed pygdrive3-0.7.0\n",
            "Requirement already satisfied: BeautifulSoup4 in /usr/local/lib/python3.6/dist-packages (4.6.3)\n",
            "Requirement already satisfied: requests in /usr/local/lib/python3.6/dist-packages (2.23.0)\n",
            "Requirement already satisfied: certifi>=2017.4.17 in /usr/local/lib/python3.6/dist-packages (from requests) (2020.12.5)\n",
            "Requirement already satisfied: chardet<4,>=3.0.2 in /usr/local/lib/python3.6/dist-packages (from requests) (3.0.4)\n",
            "Requirement already satisfied: idna<3,>=2.5 in /usr/local/lib/python3.6/dist-packages (from requests) (2.10)\n",
            "Requirement already satisfied: urllib3!=1.25.0,!=1.25.1,<1.26,>=1.21.1 in /usr/local/lib/python3.6/dist-packages (from requests) (1.24.3)\n",
            "Requirement already satisfied: pandas in /usr/local/lib/python3.6/dist-packages (1.1.5)\n",
            "Requirement already satisfied: pytz>=2017.2 in /usr/local/lib/python3.6/dist-packages (from pandas) (2018.9)\n",
            "Requirement already satisfied: numpy>=1.15.4 in /usr/local/lib/python3.6/dist-packages (from pandas) (1.19.5)\n",
            "Requirement already satisfied: python-dateutil>=2.7.3 in /usr/local/lib/python3.6/dist-packages (from pandas) (2.8.1)\n",
            "Requirement already satisfied: six>=1.5 in /usr/local/lib/python3.6/dist-packages (from python-dateutil>=2.7.3->pandas) (1.15.0)\n",
            "Requirement already satisfied: WordCloud in /usr/local/lib/python3.6/dist-packages (1.5.0)\n",
            "Requirement already satisfied: numpy>=1.6.1 in /usr/local/lib/python3.6/dist-packages (from WordCloud) (1.19.5)\n",
            "Requirement already satisfied: pillow in /usr/local/lib/python3.6/dist-packages (from WordCloud) (7.0.0)\n"
          ],
          "name": "stdout"
        }
      ]
    },
    {
      "cell_type": "code",
      "metadata": {
        "id": "4UAHVs7P-lRZ"
      },
      "source": [
        "from bs4 import BeautifulSoup\r\n",
        "import string\r\n",
        "import requests\r\n",
        "import pandas as pd\r\n",
        "from wordcloud import WordCloud, STOPWORDS\r\n",
        "import matplotlib.pyplot as plt\r\n",
        "from PIL import Image\r\n",
        "from IPython.display import Image\r\n",
        "import numpy as np\r\n",
        "from os import path\r\n",
        "from colorama import init, Fore\r\n",
        "from google.colab import output, files, auth\r\n",
        "from pygdrive3 import service\r\n",
        "from googleapiclient.discovery import build\r\n",
        "import io\r\n",
        "from googleapiclient.http import MediaIoBaseDownload"
      ],
      "execution_count": 8,
      "outputs": []
    },
    {
      "cell_type": "code",
      "metadata": {
        "id": "aUDcnVieEtFj"
      },
      "source": [
        "def extracción(id,etiq):\n",
        "    linkdet = 'https://es.stackoverflow.com/users/'+id+'/?tab=tags'\n",
        "    consulta = requests.get(linkdet)\n",
        "    extraer = BeautifulSoup(consulta.content, 'html.parser')\n",
        "    while consulta.status_code!=200:\n",
        "        print(\"No se encontró al usuario con ese ID\")\n",
        "        idr=input(\"Ingrese el id de usuario a extraer informacion: \")\n",
        "        linkdet = 'https://es.stackoverflow.com/users/' + idr + '/?tab=tags'\n",
        "        consulta = requests.get(linkdet)\n",
        "        extraer = BeautifulSoup(consulta.content, 'html.parser')\n",
        "\n",
        "    Tags = extraer.find_all('a', class_='post-tag')\n",
        "    Points = extraer.find_all('div', class_='answer-votes')\n",
        "    etiquetas = list()\n",
        "\n",
        "    for i in Tags:\n",
        "        etiquetas.append(i.text)\n",
        "\n",
        "    puntos = list()\n",
        "\n",
        "    for i in Points:\n",
        "        puntos.append(i.text.replace('k','000'))\n",
        "\n",
        "    for i in range(len(etiquetas)-1):\n",
        "      if int(puntos[i])>0:\n",
        "        etiq[etiquetas[i]] = int(puntos[i])\n",
        "\n",
        "def loop(n, p):\n",
        "    y = 0\n",
        "    while y < n:\n",
        "        y = y + 1\n",
        "        tex.write(\"\\t\"+p)\n",
        "\n",
        "def nube(etiq):\n",
        "    x = 0\n",
        "    for x in etiq:\n",
        "      if etiq[x]>0:\n",
        "        n=etiq[x]\n",
        "        p = x\n",
        "        loop(n, p)\n",
        "    tex.close()\n",
        "    with open(\"etiquetas.txt\", encoding='utf-8')as file: \n",
        "      text = file.read()\n",
        "      normal_word = r\"(?:\\w[\\w']+)\"\n",
        "      ascii_art = r\"(?:\\w[{punctuation}][{punctuation}]+)\".format(punctuation=string.punctuation)\n",
        "      c= r\"(?:\\w[{punctuation}]+)\".format(punctuation=string.punctuation)\n",
        "      emoji = r\"(?<![\\w{ascii_printable}])\".format(ascii_printable=string.printable)\n",
        "      regexp = r\"{normal_word}|{ascii_art}|{emoji}|{c}\".format( normal_word = normal_word,ascii_art=ascii_art,emoji=emoji,c=c)\n",
        "      cloud = WordCloud(background_color=\"white\", collocations=False,regexp=regexp).generate(text)\n",
        "      plt.imshow(cloud)\n",
        "      plt.axis('off') \n",
        "      plt.show()\n",
        "\n",
        "def start():\n",
        "    id = input(\"Ingrese el id de usuario a generar Nube de Palabras: \")\n",
        "    etiq = {}\n",
        "    extracción(id,etiq)\n",
        "    print(\"Etiquetas del usuario: \")\n",
        "    print(etiq)\n",
        "    if etiq: \n",
        "        nube(etiq)\n",
        "    else:\n",
        "        print(\"El usuario tiene 0 puntos o no tiene etiqueta, motivo por el cual no se pudo generar la nube.\")"
      ],
      "execution_count": null,
      "outputs": []
    },
    {
      "cell_type": "code",
      "metadata": {
        "id": "WDRHWw-w-nxj"
      },
      "source": [
        "while True:\r\n",
        "    output.clear()\r\n",
        "    tex = open(\"etiquetas.txt\", \"w\")\r\n",
        "    print(\"Bienvenido a la aplicación\")\r\n",
        "    print(\"Proyecto de Proceso de Software 3-1\")\r\n",
        "    print(\"Estudiantes: \\n- Henry Ruiz \\n- Sergio Torres \\n- Ronaldo Aguirre\")\r\n",
        "    print(\"Metodología usada: Orientado a Reutilización\")\r\n",
        "    print(\"Crear nubes de palabras con las etiquetas de un usuario de Stack Overflow en español\")\r\n",
        "    print(\"Profesor: Miguel Botto-Tobar, MSc.\")\r\n",
        "    start()\r\n",
        "    x=str(input(\"¿Desea continuar? Escriba exit para Salir o cualquier palabra para continuar: \"))\r\n",
        "    if x==\"exit\":\r\n",
        "        output.clear()\r\n",
        "        print('Muchas gracias por usar el aplicativo')\r\n",
        "        break"
      ],
      "execution_count": null,
      "outputs": []
    }
  ]
}