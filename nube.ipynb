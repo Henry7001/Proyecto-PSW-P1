{
  "nbformat": 4,
  "nbformat_minor": 0,
  "metadata": {
    "colab": {
      "name": "nube.ipynb",
      "provenance": [],
      "collapsed_sections": [],
      "include_colab_link": true
    },
    "kernelspec": {
      "display_name": "Python 3",
      "name": "python3"
    }
  },
  "cells": [
    {
      "cell_type": "markdown",
      "metadata": {
        "id": "view-in-github",
        "colab_type": "text"
      },
      "source": [
        "<a href=\"https://colab.research.google.com/github/Henry7001/Proyecto-PSW-P1/blob/main/nube.ipynb\" target=\"_parent\"><img src=\"https://colab.research.google.com/assets/colab-badge.svg\" alt=\"Open In Colab\"/></a>"
      ]
    },
    {
      "cell_type": "code",
      "metadata": {
        "id": "dQ34RjasQeBR"
      },
      "source": [
        "%pip install Colorama\n",
        "%pip install pygdrive3\n",
        "%pip install BeautifulSoup4\n",
        "%pip install requests\n",
        "%pip install pandas\n",
        "%pip install WordCloud\n"
      ],
      "execution_count": null,
      "outputs": []
    },
    {
      "cell_type": "code",
      "metadata": {
        "id": "4UAHVs7P-lRZ"
      },
      "source": [
        "from bs4 import BeautifulSoup\r\n",
        "import string\r\n",
        "import requests\r\n",
        "import pandas as pd\r\n",
        "from wordcloud import WordCloud, STOPWORDS\r\n",
        "import matplotlib.pyplot as plt\r\n",
        "from PIL import Image\r\n",
        "from IPython.display import Image\r\n",
        "import numpy as np\r\n",
        "from os import path\r\n",
        "from colorama import init, Fore\r\n",
        "from google.colab import output, files, auth\r\n",
        "from pygdrive3 import service\r\n",
        "from googleapiclient.discovery import build\r\n",
        "import io\r\n",
        "from googleapiclient.http import MediaIoBaseDownload"
      ],
      "execution_count": null,
      "outputs": []
    },
    {
      "cell_type": "code",
      "metadata": {
        "id": "aUDcnVieEtFj"
      },
      "source": [
        "def extracción(id,etiq):\n",
        "    linkdet = 'https://es.stackoverflow.com/users/'+id+'/?tab=tags'\n",
        "    consulta = requests.get(linkdet)\n",
        "    extraer = BeautifulSoup(consulta.content, 'html.parser')\n",
        "    while consulta.status_code!=200:\n",
        "        print(\"No se encontró al usuario con ese ID\")\n",
        "        idr=input(\"Ingrese el id de usuario a extraer informacion: \")\n",
        "        linkdet = 'https://es.stackoverflow.com/users/' + idr + '/?tab=tags'\n",
        "        consulta = requests.get(linkdet)\n",
        "        extraer = BeautifulSoup(consulta.content, 'html.parser')\n",
        "\n",
        "    Tags = extraer.find_all('a', class_='post-tag')\n",
        "    Points = extraer.find_all('div', class_='answer-votes')\n",
        "    etiquetas = list()\n",
        "\n",
        "    for i in Tags:\n",
        "        etiquetas.append(i.text)\n",
        "\n",
        "    puntos = list()\n",
        "\n",
        "    for i in Points:\n",
        "        puntos.append(i.text.replace('k','000'))\n",
        "\n",
        "    for i in range(len(etiquetas)-1):\n",
        "      if int(puntos[i])>0:\n",
        "        etiq[etiquetas[i]] = int(puntos[i])\n",
        "\n",
        "def loop(n, p):\n",
        "    y = 0\n",
        "    while y < n:\n",
        "        y = y + 1\n",
        "        tex.write(\"\\t\"+p)\n",
        "\n",
        "def nube(etiq):\n",
        "    x = 0\n",
        "    for x in etiq:\n",
        "      if etiq[x]>0:\n",
        "        n=etiq[x]\n",
        "        p = x\n",
        "        loop(n, p)\n",
        "    tex.close()\n",
        "    with open(\"etiquetas.txt\", encoding='utf-8')as file: \n",
        "      text = file.read()\n",
        "      normal_word = r\"(?:\\w[\\w']+)\"\n",
        "      ascii_art = r\"(?:\\w[{punctuation}][{punctuation}]+)\".format(punctuation=string.punctuation)\n",
        "      c= r\"(?:\\w[{punctuation}]+)\".format(punctuation=string.punctuation)\n",
        "      emoji = r\"(?<![\\w{ascii_printable}])\".format(ascii_printable=string.printable)\n",
        "      regexp = r\"{normal_word}|{ascii_art}|{emoji}|{c}\".format( normal_word = normal_word,ascii_art=ascii_art,emoji=emoji,c=c)\n",
        "      cloud = WordCloud(background_color=\"white\", collocations=False,regexp=regexp).generate(text)\n",
        "      plt.imshow(cloud)\n",
        "      plt.axis('off') \n",
        "      plt.show()\n",
        "\n",
        "def start():\n",
        "    id = input(\"Ingrese el id de usuario a generar Nube de Palabras: \")\n",
        "    etiq = {}\n",
        "    extracción(id,etiq)\n",
        "    print(\"Etiquetas del usuario: \")\n",
        "    print(etiq)\n",
        "    if etiq: \n",
        "        nube(etiq)\n",
        "    else:\n",
        "        print(\"El usuario tiene 0 puntos o no tiene etiqueta, motivo por el cual no se pudo generar la nube.\")"
      ],
      "execution_count": null,
      "outputs": []
    },
    {
      "cell_type": "code",
      "metadata": {
        "id": "WDRHWw-w-nxj"
      },
      "source": [
        "while True:\r\n",
        "    output.clear()\r\n",
        "    tex = open(\"etiquetas.txt\", \"w\")\r\n",
        "    print(\"Bienvenido a la aplicación\")\r\n",
        "    print(\"Proyecto de Proceso de Software 3-1\")\r\n",
        "    print(\"Estudiantes: \\n- Henry Ruiz \\n- Sergio Torres \\n- Ronaldo Aguirre\")\r\n",
        "    print(\"Metodología usada: Orientado a Reutilización\")\r\n",
        "    print(\"Crear nubes de palabras con las etiquetas de un usuario de Stack Overflow en español\")\r\n",
        "    print(\"Profesor: Miguel Botto-Tobar, MSc.\")\r\n",
        "    start()\r\n",
        "    x=str(input(\"¿Desea continuar? Escriba exit para Salir o cualquier palabra para continuar: \"))\r\n",
        "    if x==\"exit\":\r\n",
        "        output.clear()\r\n",
        "        print('Muchas gracias por usar el aplicativo')\r\n",
        "        break"
      ],
      "execution_count": null,
      "outputs": []
    }
  ]
}